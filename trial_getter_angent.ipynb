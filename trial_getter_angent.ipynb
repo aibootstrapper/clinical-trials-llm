{
 "cells": [
  {
   "cell_type": "code",
   "execution_count": 1,
   "metadata": {},
   "outputs": [],
   "source": [
    "# !pip install faiss-cpu\n",
    "# !pip install langchain\n",
    "# !pip install openai\n",
    "# !pip install tiktoken"
   ]
  },
  {
   "cell_type": "code",
   "execution_count": 2,
   "metadata": {},
   "outputs": [],
   "source": [
    "from langchain.embeddings.openai import OpenAIEmbeddings\n",
    "from langchain.text_splitter import CharacterTextSplitter\n",
    "from langchain.vectorstores import FAISS\n",
    "from langchain.docstore.document import Document\n",
    "from langchain.document_loaders import TextLoader"
   ]
  },
  {
   "cell_type": "code",
   "execution_count": 3,
   "metadata": {},
   "outputs": [],
   "source": [
    "import glob\n",
    "path_to_trials = ''\n",
    "trial_paths = glob.glob(f'{path_to_trials}/raw/*/*.json')"
   ]
  },
  {
   "cell_type": "code",
   "execution_count": 4,
   "metadata": {},
   "outputs": [],
   "source": [
    "import json\n",
    "trial_documents = []\n",
    "documents_to_load = 100\n",
    "for trial_path in trial_paths[:documents_to_load]:\n",
    "    trial = json.load(open(trial_path))\n",
    "    nct_id = trial['FullStudy']['Study']['ProtocolSection']['IdentificationModule']['NCTId']\n",
    "    trial_documents.append(Document(page_content=json.dumps(trial['FullStudy']), metadata={'nct_id': nct_id}))"
   ]
  },
  {
   "cell_type": "code",
   "execution_count": 5,
   "metadata": {},
   "outputs": [],
   "source": [
    "embeddings = OpenAIEmbeddings()\n",
    "db = FAISS.from_documents(trial_documents, embeddings)"
   ]
  },
  {
   "cell_type": "code",
   "execution_count": 10,
   "metadata": {},
   "outputs": [],
   "source": [
    "query = \"Radiotherapy for prostate cancer\"\n",
    "docs = db.similarity_search(query, k=1)"
   ]
  },
  {
   "cell_type": "code",
   "execution_count": 11,
   "metadata": {},
   "outputs": [
    {
     "data": {
      "text/plain": [
       "{'BriefSummary': 'This phase I trial studies the side effects and best way to give enzalutamide, radiation therapy, and hormone therapy in treating patients with intermediate or high-risk prostate cancer. Androgens can cause the growth of prostate cancer cells. Antihormone therapy, such as enzalutamide, may lessen the amount of androgens made by the body. Radiation therapy uses high energy x rays to kill tumor cells. Giving enzalutamide, radiation therapy, and hormone therapy may be an effective treatment for prostate cancer.',\n",
       " 'DetailedDescription': 'PRIMARY OBJECTIVE:\\n\\n1) To assess the safety of the combination of neoadjuvant and concurrent enzalutamide with an luteinizing-hormone-releasing hormone (LHRH) agonist and radiation therapy.\\n\\nSECONDARY OBJECTIVES:\\n\\nTo determine the efficacy of the combination of enzalutamide with an LHRH agonist and radiation therapy using prostate specific antigen (PSA) kinetics.\\nTo determine the efficacy of the combination of enzalutamide with an LHRH agonist and radiation therapy using PSA nadir.\\nTo describe patient-reported outcomes including: Expanded Prostate Cancer Index Composite (EPIC), American Urological Association (AUA) Symptom Index, PROstate magnetic resonance (MR) Imaging Study (PROMIS) Fatigue Scale.\\n\\nOUTLINE:\\n\\nPatients receive enzalutamide orally (PO) once daily (QD) for 6 months. Beginning 2 weeks after start of enzalutamide, patients receive LHRH agonist therapy with goserelin acetate subcutaneously (SC) or leuprolide acetate intramuscularly (IM) or SC for 6 months (intermediate risk patients) or 24 months (high risk patients) post-radiation therapy. Beginning 8 weeks after the start of LHRH agonist therapy, patients undergo either intensity modulated radiation therapy (IMRT) or volumetric arc therapy (VMAT) daily five days a week for 8 weeks.\\n\\nAfter completion of study treatment, patients are followed up every 3 months for 2 years, every 6 months for 2 years, and then annually thereafter.'}"
      ]
     },
     "execution_count": 11,
     "metadata": {},
     "output_type": "execute_result"
    }
   ],
   "source": [
    "json.loads(docs[0].page_content)['Study']['ProtocolSection']['DescriptionModule']"
   ]
  }
 ],
 "metadata": {
  "kernelspec": {
   "display_name": ".venv",
   "language": "python",
   "name": "python3"
  },
  "language_info": {
   "codemirror_mode": {
    "name": "ipython",
    "version": 3
   },
   "file_extension": ".py",
   "mimetype": "text/x-python",
   "name": "python",
   "nbconvert_exporter": "python",
   "pygments_lexer": "ipython3",
   "version": "3.8.3"
  },
  "orig_nbformat": 4
 },
 "nbformat": 4,
 "nbformat_minor": 2
}
